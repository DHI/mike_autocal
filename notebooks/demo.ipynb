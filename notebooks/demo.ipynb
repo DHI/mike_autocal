{
 "cells": [
  {
   "cell_type": "code",
   "execution_count": 1,
   "id": "a912fa78",
   "metadata": {},
   "outputs": [],
   "source": [
    "from pathlib import Path\n",
    "ROOT_DIR = Path().resolve()"
   ]
  },
  {
   "cell_type": "markdown",
   "id": "634c9945",
   "metadata": {},
   "source": [
    "# 1. Load and investigate setup\n",
    "\n",
    "This demo is based on the [WaterBench Southern North Sea](https://github.com/DHI/WaterBench-MIKE21HD-SouthernNorthSea) model and observations.\n",
    "\n",
    "To load the data we leverage `MIKEIO` and its pfs reading capabilities"
   ]
  },
  {
   "cell_type": "code",
   "execution_count": 2,
   "id": "e9ddd98f",
   "metadata": {},
   "outputs": [
    {
     "data": {
      "text/plain": [
       "Touched = 1\n",
       "start_time = 2022, 1, 1, 0, 0, 0\n",
       "time_step_interval = 600.0\n",
       "number_of_time_steps = 500"
      ]
     },
     "execution_count": 2,
     "metadata": {},
     "output_type": "execute_result"
    }
   ],
   "source": [
    "import mikeio\n",
    "\n",
    "# specify simulation setup file \n",
    "simfile = ROOT_DIR / \"mike_autocal/tests/data/simulation_data_sns/simulation/sns_base.m21fm\"\n",
    "# read with mikeio and display some information\n",
    "pfs = mikeio.read_pfs(simfile)\n",
    "pfs.FemEngineHD.TIME"
   ]
  },
  {
   "cell_type": "markdown",
   "id": "95400ffc",
   "metadata": {},
   "source": [
    "# 2. Run simulation with simple logging\n",
    "\n",
    "* simplest version with basic logging of runtime information (from stdout, interpolation in tensorboard if output frequency is lower than logging frequency)\n",
    "* without utilizing observations\n",
    "\n",
    "\n",
    "* introducting `RunTimeEvaluation` (RTE). \n",
    "    * Evaluates and generates logs with `TensorBoards` SummaryWriter (default is a timestamped directory like logs/simulation_YYYYMMDD_HHMMSS)\n",
    "    * Logs can be found in `/teamspace/studios/this_studio/logs` and accessed via Tensorboard in real time.\n",
    "    * frequency is the only argument that can be used in the RTE when no observation (SimObsPairs) are specified.\n",
    "    * Logs will solely contain runtime information   \n",
    "* introducing simulation `Launcher`\n",
    "* introducing Tensorboard"
   ]
  },
  {
   "cell_type": "code",
   "execution_count": 3,
   "id": "c58f90ef",
   "metadata": {},
   "outputs": [
    {
     "name": "stderr",
     "output_type": "stream",
     "text": [
      "Processing: 100%|██████████| 500/500 [00:14<00:00, 34.90step/s]\n"
     ]
    }
   ],
   "source": [
    "from mike_autocal.mikesimulation import RunTimeEvaluation, Launcher\n",
    "\n",
    "\n",
    "rte = RunTimeEvaluation(frequency=50) # frequency of logging will be every 10 timesteps by default  \n",
    "\n",
    "launcher = Launcher(\n",
    "    simfile = simfile,      # path to simulation setup file\n",
    "    use_gpu=True,           # use GPU if available\n",
    "    runtimeevaluation=rte,  # Use an empty RunTimeEvaluation object\n",
    "    n_cores = 1)\n",
    "    \n",
    "launcher.execute_simulation();"
   ]
  },
  {
   "cell_type": "markdown",
   "id": "fadbd7e2",
   "metadata": {},
   "source": [
    "# 2. Extend logging with error tracking from in-situ observations\n",
    "\n",
    "* we need to link observations to simulation output\n",
    "* introducing `SimObsPairs` \n",
    "* extended RTE allows for live tracking of specified error metrics\n",
    "\n",
    "* <mark> can we track errors from different stations individually in tensorboard? if not should we add support for it?</mark>"
   ]
  },
  {
   "cell_type": "code",
   "execution_count": 4,
   "id": "7c19dde4",
   "metadata": {},
   "outputs": [],
   "source": [
    "from mike_autocal.dataio import ObservationData, SimObsPair, SimulationData\n",
    "\n",
    "base_sim_path = ROOT_DIR / \"mike_autocal/tests/data/simulation_data_sns/simulation/sns_base.m21fm - Result Files\"\n",
    "base_obs_path = ROOT_DIR / \"mike_autocal/tests/data/simulation_data_sns/observations\"\n",
    "\n",
    "simobs = [\n",
    "    SimObsPair(\n",
    "        name=\"F3platform\",\n",
    "        pair_type=\"point\",\n",
    "        sim=SimulationData(\n",
    "            file_path = base_sim_path / \"waterlevels.dfs0\",\n",
    "            item=7,  \n",
    "        ),\n",
    "        obs=ObservationData(\n",
    "            file_path = base_obs_path / \"F3platform_wl.dfs0\",\n",
    "            item=0,  \n",
    "        ),\n",
    "    ),\n",
    "    SimObsPair(\n",
    "        name=\"Helgoland\",\n",
    "        pair_type=\"point\",\n",
    "        sim=SimulationData(\n",
    "            file_path = base_sim_path / \"waterlevels.dfs0\",\n",
    "            item=5,  \n",
    "        ),\n",
    "        obs=ObservationData(\n",
    "            file_path = base_obs_path / \"Helgoland_wl.dfs0\",\n",
    "            item=0,  \n",
    "        ),\n",
    "    ), # add as many as you want\n",
    "    ]"
   ]
  },
  {
   "cell_type": "markdown",
   "id": "031e7aa4",
   "metadata": {},
   "source": [
    "using rte and the launcher once again, slightly extended.\n",
    "* introducing `InnerMetric` as well as `OuterMetric`"
   ]
  },
  {
   "cell_type": "code",
   "execution_count": 5,
   "id": "61f83616",
   "metadata": {},
   "outputs": [
    {
     "name": "stderr",
     "output_type": "stream",
     "text": [
      "Processing: 100%|██████████| 500/500 [00:13<00:00, 35.86step/s]\n"
     ]
    }
   ],
   "source": [
    "from mike_autocal.objective_fun import RMSEInnerMetric, AMEANOuterMetric\n",
    "\n",
    "\n",
    "# Step 2: Specify RunTimeEvaluation properties\n",
    "rte = RunTimeEvaluation(simobs=simobs, \n",
    "                        inner_metric=[RMSEInnerMetric()], # can be multiple metrics as well (e.g. CC) \n",
    "                        outer_metric=[AMEANOuterMetric()], # defines how to aggregate data from multiple stations\n",
    "                        frequency=50)\n",
    "\n",
    "\n",
    "launcher = Launcher(\n",
    "    simfile = simfile,      # path to simulation setup file\n",
    "    use_gpu=True,           # use GPU if available\n",
    "    runtimeevaluation=rte,  # Use new RunTimeEvaluation object\n",
    "    n_cores = 1)\n",
    "    \n",
    "launcher.execute_simulation();"
   ]
  },
  {
   "cell_type": "markdown",
   "id": "cdee4a5a",
   "metadata": {},
   "source": [
    "# "
   ]
  },
  {
   "cell_type": "markdown",
   "id": "e12352d8",
   "metadata": {},
   "source": [
    "# 3. Automatic calibration guided by error metrics\n",
    "\n",
    "* introducing optuna\n",
    "* introducing measurement functions\n",
    "\n",
    "\n",
    "<mark>how do we set number of random initial trials?</mark>"
   ]
  },
  {
   "cell_type": "code",
   "execution_count": 6,
   "id": "6f28ff0d",
   "metadata": {},
   "outputs": [
    {
     "data": {
      "text/plain": [
       "<Axes: title={'center': '2025-02-26 15:33:23'}, xlabel='Longitude [degrees]', ylabel='Latitude [degrees]'>"
      ]
     },
     "execution_count": 6,
     "metadata": {},
     "output_type": "execute_result"
    },
    {
     "data": {
      "image/png": "[encoded data removed]",
      "text/plain": [
       "<Figure size 640x480 with 2 Axes>"
      ]
     },
     "metadata": {},
     "output_type": "display_data"
    }
   ],
   "source": [
    "manningfile = ROOT_DIR / \"mike_autocal/tests/data/simulation_data_sns/simulation/conditions/ManningM.dfsu\"\n",
    "mikeio.read(manningfile)[0].plot()"
   ]
  },
  {
   "cell_type": "code",
   "execution_count": 7,
   "id": "22fdeae9",
   "metadata": {},
   "outputs": [
    {
     "name": "stderr",
     "output_type": "stream",
     "text": [
      "/tmp/ipykernel_31785/1808492885.py:6: ExperimentalWarning: GPSampler is experimental (supported from v3.6.0). The interface can change in the future.\n",
      "  sampler = optuna.samplers.GPSampler(seed=0) # which optimization algorithm to use (defaults to TPE)\n"
     ]
    }
   ],
   "source": [
    "#from datetime import datetime\n",
    "import optuna\n",
    "\n",
    "from mike_autocal.measurement_fun import ManningFile\n",
    "\n",
    "sampler = optuna.samplers.GPSampler(seed=0) # which optimization algorithm to use (defaults to TPE)\n",
    "evaluation_time = slice(50, None)           # at which time steps to evaluate the objective function (it can be a good idea to leave the swing-in period out)\n",
    "\n",
    "inner_metric = [RMSEInnerMetric()] # can be multiple metrics as well (e.g. CC) \n",
    "outer_metric = [AMEANOuterMetric()] # defines how to aggregate data from multiple stations\n",
    "\n",
    "direction = [\"minimize\"]                    # direction of optimization (see inner metric), can be multiobjective \n",
    "n_trials = 11                               # number of simulation runs in optimization\n",
    "study_name = \"testing_calibration\"          # recognizable name\n",
    "\n",
    "\n",
    "measurement_functions = [\n",
    "    ManningFile(\n",
    "        filename= manningfile,\n",
    "        item_name=\"manning\",\n",
    "        low=0.001,\n",
    "        high=81.101,\n",
    "        step=0.01,\n",
    "    )]"
   ]
  },
  {
   "cell_type": "markdown",
   "id": "81bcf453",
   "metadata": {},
   "source": [
    "<mark>calibration. RTE not reused here with inner and outer metric and frequency. Instead separate autocal. Does this make sense or should we be more consistent? </mark>"
   ]
  },
  {
   "cell_type": "code",
   "execution_count": 9,
   "id": "6c9d3bcc",
   "metadata": {},
   "outputs": [
    {
     "name": "stderr",
     "output_type": "stream",
     "text": [
      "[I 2025-05-15 12:58:23,676] A new study created in Journal with name: testing_calibration\n",
      "INFO:autocal:------------------------------------ Trial: 0 ------------------------------------\n",
      "Processing: 100%|██████████| 500/500 [00:14<00:00, 34.19step/s]\n",
      "INFO:autocal:InnerEvaluation(metric=RMSE):\n",
      "              values    n\n",
      "name                     \n",
      "F3platform  0.309701  451\n",
      "Helgoland   1.264383  451\n",
      "[I 2025-05-15 12:58:39,191] Trial 0 finished with value: 0.7870422079758148 and parameters: {'Manning_0': 44.510999999999996, 'Manning_1': 58.001, 'Manning_2': 48.891, 'Manning_3': 44.190999999999995, 'Manning_4': 34.361, 'Manning_5': 52.381, 'Manning_6': 35.491}. Best is trial 0 with value: 0.7870422079758148.\n",
      "INFO:autocal:------------------------------------ Trial: 1 ------------------------------------\n",
      "Processing: 100%|██████████| 500/500 [00:14<00:00, 34.92step/s]\n",
      "INFO:autocal:InnerEvaluation(metric=RMSE):\n",
      "              values    n\n",
      "name                     \n",
      "F3platform  0.309006  451\n",
      "Helgoland   1.316695  451\n",
      "[I 2025-05-15 12:58:54,430] Trial 1 finished with value: 0.8128509242510915 and parameters: {'Manning_0': 72.331, 'Manning_1': 78.161, 'Manning_2': 31.101000000000003, 'Manning_3': 64.21100000000001, 'Manning_4': 42.891, 'Manning_5': 46.071, 'Manning_6': 75.07100000000001}. Best is trial 0 with value: 0.7870422079758148.\n",
      "INFO:autocal:------------------------------------ Trial: 2 ------------------------------------\n",
      "Processing: 100%|██████████| 500/500 [00:14<00:00, 34.88step/s]\n",
      "INFO:autocal:InnerEvaluation(metric=RMSE):\n",
      "              values    n\n",
      "name                     \n",
      "F3platform  0.315551  451\n",
      "Helgoland   1.186813  451\n",
      "[I 2025-05-15 12:59:09,659] Trial 2 finished with value: 0.7511818897672533 and parameters: {'Manning_0': 5.761, 'Manning_1': 7.061000000000001, 'Manning_2': 1.631, 'Manning_3': 67.531, 'Manning_4': 63.111, 'Manning_5': 70.561, 'Manning_6': 79.37100000000001}. Best is trial 2 with value: 0.7511818897672533.\n",
      "INFO:autocal:------------------------------------ Trial: 3 ------------------------------------\n",
      "Processing: 100%|██████████| 500/500 [00:14<00:00, 34.02step/s]\n",
      "INFO:autocal:InnerEvaluation(metric=RMSE):\n",
      "              values    n\n",
      "name                     \n",
      "F3platform  0.325789  451\n",
      "Helgoland   1.153994  451\n",
      "[I 2025-05-15 12:59:25,243] Trial 3 finished with value: 0.7398914524916551 and parameters: {'Manning_0': 64.811, 'Manning_1': 37.431, 'Manning_2': 63.301, 'Manning_3': 9.591, 'Manning_4': 51.900999999999996, 'Manning_5': 11.621, 'Manning_6': 76.62100000000001}. Best is trial 3 with value: 0.7398914524916551.\n",
      "INFO:autocal:------------------------------------ Trial: 4 ------------------------------------\n",
      "Processing: 100%|██████████| 500/500 [00:14<00:00, 34.71step/s]\n",
      "INFO:autocal:InnerEvaluation(metric=RMSE):\n",
      "              values    n\n",
      "name                     \n",
      "F3platform  0.272752  451\n",
      "Helgoland   1.034246  451\n",
      "[I 2025-05-15 12:59:40,507] Trial 4 finished with value: 0.653498695518767 and parameters: {'Manning_0': 42.321, 'Manning_1': 33.631, 'Manning_2': 21.451, 'Manning_3': 62.791, 'Manning_4': 36.991, 'Manning_5': 46.101, 'Manning_6': 1.521}. Best is trial 4 with value: 0.653498695518767.\n",
      "INFO:autocal:------------------------------------ Trial: 5 ------------------------------------\n",
      "Processing: 100%|██████████| 500/500 [00:14<00:00, 35.05step/s]\n",
      "INFO:autocal:InnerEvaluation(metric=RMSE):\n",
      "             values    n\n",
      "name                    \n",
      "F3platform  0.31268  451\n",
      "Helgoland   1.30773  451\n",
      "[I 2025-05-15 12:59:55,674] Trial 5 finished with value: 0.810205065895657 and parameters: {'Manning_0': 50.091, 'Manning_1': 49.641, 'Manning_2': 50.031, 'Manning_3': 76.54100000000001, 'Manning_4': 55.301, 'Manning_5': 29.151000000000003, 'Manning_6': 35.440999999999995}. Best is trial 4 with value: 0.653498695518767.\n",
      "INFO:autocal:------------------------------------ Trial: 6 ------------------------------------\n",
      "Processing: 100%|██████████| 500/500 [00:14<00:00, 34.93step/s]\n",
      "INFO:autocal:InnerEvaluation(metric=RMSE):\n",
      "              values    n\n",
      "name                     \n",
      "F3platform  0.321648  451\n",
      "Helgoland   1.086122  451\n",
      "[I 2025-05-15 13:00:10,852] Trial 6 finished with value: 0.7038849504597513 and parameters: {'Manning_0': 56.580999999999996, 'Manning_1': 4.881, 'Manning_2': 54.080999999999996, 'Manning_3': 54.391, 'Manning_4': 17.061, 'Manning_5': 10.451, 'Manning_6': 25.581000000000003}. Best is trial 4 with value: 0.653498695518767.\n",
      "INFO:autocal:------------------------------------ Trial: 7 ------------------------------------\n",
      "Processing: 100%|██████████| 500/500 [00:14<00:00, 34.62step/s]\n",
      "INFO:autocal:InnerEvaluation(metric=RMSE):\n",
      "              values    n\n",
      "name                     \n",
      "F3platform  0.316822  451\n",
      "Helgoland   1.038086  451\n",
      "[I 2025-05-15 13:00:26,162] Trial 7 finished with value: 0.6774542395261713 and parameters: {'Manning_0': 29.501, 'Manning_1': 46.241, 'Manning_2': 35.571, 'Manning_3': 80.161, 'Manning_4': 8.270999999999999, 'Manning_5': 16.941000000000003, 'Manning_6': 13.081}. Best is trial 4 with value: 0.653498695518767.\n",
      "INFO:autocal:------------------------------------ Trial: 8 ------------------------------------\n",
      "Processing: 100%|██████████| 500/500 [00:14<00:00, 35.61step/s]\n",
      "INFO:autocal:InnerEvaluation(metric=RMSE):\n",
      "              values    n\n",
      "name                     \n",
      "F3platform  0.325252  451\n",
      "Helgoland   1.062545  451\n",
      "[I 2025-05-15 13:00:41,085] Trial 8 finished with value: 0.693898847644999 and parameters: {'Manning_0': 52.971, 'Manning_1': 20.541, 'Manning_2': 37.821, 'Manning_3': 19.821, 'Manning_4': 12.891, 'Manning_5': 8.951, 'Manning_6': 53.231}. Best is trial 4 with value: 0.653498695518767.\n",
      "INFO:autocal:------------------------------------ Trial: 9 ------------------------------------\n",
      "Processing: 100%|██████████| 500/500 [00:13<00:00, 36.24step/s]\n",
      "INFO:autocal:InnerEvaluation(metric=RMSE):\n",
      "              values    n\n",
      "name                     \n",
      "F3platform  0.303034  451\n",
      "Helgoland   0.968185  451\n",
      "[I 2025-05-15 13:00:55,784] Trial 9 finished with value: 0.6356093424235207 and parameters: {'Manning_0': 11.201, 'Manning_1': 15.940999999999999, 'Manning_2': 29.901000000000003, 'Manning_3': 66.59100000000001, 'Manning_4': 7.871, 'Manning_5': 67.96100000000001, 'Manning_6': 7.791}. Best is trial 9 with value: 0.6356093424235207.\n",
      "INFO:autocal:------------------------------------ Trial: 10 ------------------------------------\n",
      "Processing: 100%|██████████| 500/500 [00:14<00:00, 35.17step/s]\n",
      "INFO:autocal:InnerEvaluation(metric=RMSE):\n",
      "              values    n\n",
      "name                     \n",
      "F3platform  0.309471  451\n",
      "Helgoland   0.830550  451\n",
      "[I 2025-05-15 13:01:13,267] Trial 10 finished with value: 0.5700103327706443 and parameters: {'Manning_0': 21.421, 'Manning_1': 13.370999999999997, 'Manning_2': 10.920999999999998, 'Manning_3': 54.211, 'Manning_4': 0.0010000000000000009, 'Manning_5': 34.36099999999999, 'Manning_6': 0.0010000000000000009}. Best is trial 10 with value: 0.5700103327706443.\n"
     ]
    }
   ],
   "source": [
    "from mike_autocal.autocal import AutoCal\n",
    "\n",
    "\n",
    "calibration = AutoCal(\n",
    "    launcher=launcher,          # already contains simfile\n",
    "    # add observations and metrics\n",
    "    simobs=simobs,\n",
    "    inner_metric=inner_metric,  \n",
    "    outer_metric=outer_metric,\n",
    "    # optimization settings\n",
    "    study_name=study_name,\n",
    "    n_trials=n_trials,\n",
    "    direction=direction,\n",
    "    sampler=sampler, \n",
    "    measurement_functions=measurement_functions,\n",
    "    evaluation_time=evaluation_time,\n",
    "    verbose=False,\n",
    "    load_if_exists=False,\n",
    ")\n",
    "calibration.run()"
   ]
  }
 ],
 "metadata": {
  "kernelspec": {
   "display_name": "cloudspace",
   "language": "python",
   "name": "python3"
  },
  "language_info": {
   "codemirror_mode": {
    "name": "ipython",
    "version": 3
   },
   "file_extension": ".py",
   "mimetype": "text/x-python",
   "name": "python",
   "nbconvert_exporter": "python",
   "pygments_lexer": "ipython3",
   "version": "3.10.10"
  }
 },
 "nbformat": 4,
 "nbformat_minor": 5
}
