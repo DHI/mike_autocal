{
 "cells": [
  {
   "cell_type": "markdown",
   "metadata": {},
   "source": [
    "##### Import"
   ]
  },
  {
   "cell_type": "code",
   "execution_count": 1,
   "metadata": {},
   "outputs": [],
   "source": [
    "from pathlib import Path\n",
    "from datetime import datetime\n",
    "\n",
    "import optuna\n",
    "from mike_autocal.autocal import AutoCal\n",
    "from mike_autocal.dataio import ObservationData, SimObsPair, SimulationData\n",
    "from mike_autocal.measurement_fun import ManningFile, SmagorinskyFile\n",
    "from mike_autocal.mikesimulation import Launcher, RunTimeEvaluation\n",
    "from mike_autocal.objective_fun import AMEANOuterMetric, RMSEInnerMetric\n",
    "\n",
    "ROOT_DIR = Path().resolve()"
   ]
  },
  {
   "cell_type": "markdown",
   "metadata": {},
   "source": [
    "##### Basic autocal input\n",
    "\n",
    "- `study_name` - Unique identifier for this calibration study using satellite altimetry data.\n",
    "- `simfile` - Base MIKE model file to be calibrated.\n",
    "- `evaluation_time` - Defines from which time range is used to evaluate the output files. Can e.g. be usefull to ignore warm up.\n",
    "- `n_trials` - Number of optimization iterations to perform.\n",
    "- `sampler` - The optuna sampler that is use for the study.\n",
    "- `direction` - Indicates that the optimization should \"minimize\" or \"maximize\" the error metrics. Can be a list if multiple objectives are used.\n",
    "- `inner_metric` -  Applied to each simulation-observation pair independently. Can be a list if multiple objectives are used.\n",
    "- `outer_metric` - Combines results from multiple simulation-observation pairs into a single objective value. Can be a list if multiple objectives are used."
   ]
  },
  {
   "cell_type": "code",
   "execution_count": null,
   "metadata": {},
   "outputs": [],
   "source": [
    "study_name = \"example_satellite_altimetry\"\n",
    "simfile = ROOT_DIR / \"mike_autocal/tests/data/simulation_data_sns/simulation/sns_base.m21fm\"\n",
    "evaluation_time = slice(0, None)\n",
    "n_trials = 2\n",
    "sampler = optuna.samplers.GPSampler(seed=0)\n",
    "direction = [\"minimize\"]\n",
    "inner_metric = [RMSEInnerMetric()]\n",
    "outer_metric = [AMEANOuterMetric()]"
   ]
  },
  {
   "cell_type": "markdown",
   "metadata": {},
   "source": [
    "##### Create measurement functions\n",
    "\n",
    "Measurement functions define the parameters that will be calibrated in the MIKE model. Meaningful ranges can be defined it wished."
   ]
  },
  {
   "cell_type": "code",
   "execution_count": 3,
   "metadata": {},
   "outputs": [],
   "source": [
    "measurement_functions = [\n",
    "    ManningFile(\n",
    "        filename= ROOT_DIR / \"mike_autocal/tests/data/simulation_data_sns/simulation/conditions/ManningM.dfsu\",\n",
    "        item_name=\"manning\",\n",
    "        low=0.001,\n",
    "        high=81.101,\n",
    "        step=0.01,\n",
    "    )]"
   ]
  },
  {
   "cell_type": "markdown",
   "metadata": {},
   "source": [
    "##### Create a Mapping of Simulation and Observation Data (Simulation-Observation Pairs)\n",
    "\n",
    "In order for the autocal system to recognize the observation data as altimetry data, we need to specify `pair_type=\"track\"` in the `SimObsPair`. This indicates that the data corresponds to a tracking type of observation.\n",
    "\n",
    "Additionally, to properly interpret the `dfs0` files associated with track-type observations, we need to specify the following three items for each observation:\n",
    "- x-coordinate: The X-coordinate of the observation location.\n",
    "- y-coordinate: The Y-coordinate of the observation location.\n",
    "- measurement item: The specific measurement recorded (e.g., altitude, water level).\n",
    "\n",
    "Thus, in the `ObservationData`, we set `item=[0,1,2]` to refer to the indices of the above-mentioned items in the `dfs0` file. This ensures that the system correctly interprets the coordinates and measurement data from the file.\n"
   ]
  },
  {
   "cell_type": "code",
   "execution_count": null,
   "metadata": {},
   "outputs": [],
   "source": [
    "base_sim_path = ROOT_DIR / \"mike_autocal/tests/data/simulation_data_sns/simulation/sns_base.m21fm - Result Files\"\n",
    "base_obs_path = ROOT_DIR / \"mike_autocal/tests/data/simulation_data_sns/observations\"\n",
    "\n",
    "# Verify the simulation file exists\n",
    "dfsu_file = base_sim_path / \"Area.dfsu\"\n",
    "\n",
    "simobs = [\n",
    "    SimObsPair(\n",
    "        name=\"3a\",\n",
    "        pair_type=\"track\",\n",
    "        sim=SimulationData(\n",
    "            file_path=dfsu_file,\n",
    "            item=0,  \n",
    "        ),\n",
    "        obs=ObservationData(\n",
    "            file_path = base_obs_path / \"Altimetry_3a.dfs0\",\n",
    "            item=[0,1,2],  \n",
    "        ),\n",
    "    ),\n",
    "    SimObsPair(\n",
    "        name=\"3b\",\n",
    "        pair_type=\"track\",\n",
    "        sim=SimulationData(\n",
    "            file_path=dfsu_file,\n",
    "            item=0,  \n",
    "        ),\n",
    "        obs=ObservationData(\n",
    "            file_path = base_obs_path / \"Altimetry_3b.dfs0\",\n",
    "            item=[0,1,2],  \n",
    "        ),\n",
    "    ),\n",
    "    SimObsPair(\n",
    "        name=\"6a\",\n",
    "        pair_type=\"track\",\n",
    "        sim=SimulationData(\n",
    "            file_path=dfsu_file,\n",
    "            item=0,  \n",
    "        ),\n",
    "        obs=ObservationData(\n",
    "            file_path = base_obs_path / \"Altimetry_6a.dfs0\",\n",
    "            item=[0,1,2],  \n",
    "        ),\n",
    "    ),\n",
    "    SimObsPair(\n",
    "        name=\"j3\",\n",
    "        pair_type=\"track\",\n",
    "        sim=SimulationData(\n",
    "            file_path=dfsu_file,\n",
    "            item=0,  \n",
    "        ),\n",
    "        obs=ObservationData(\n",
    "            file_path = base_obs_path / \"Altimetry_j3.dfs0\",\n",
    "            item=[0,1,2],  \n",
    "        ),\n",
    "    ),\n",
    "    SimObsPair(\n",
    "        name=\"sa\",\n",
    "        pair_type=\"track\",\n",
    "        sim=SimulationData(\n",
    "            file_path=dfsu_file,\n",
    "            item=0,  \n",
    "        ),\n",
    "        obs=ObservationData(\n",
    "            file_path = base_obs_path / \"Altimetry_sa.dfs0\",\n",
    "            item=[0,1,2],  \n",
    "        ),\n",
    "    ),]"
   ]
  },
  {
   "cell_type": "markdown",
   "metadata": {},
   "source": [
    "##### Create Launcher"
   ]
  },
  {
   "cell_type": "code",
   "execution_count": 5,
   "metadata": {},
   "outputs": [],
   "source": [
    "rte = RunTimeEvaluation(\n",
    "    simobs=simobs,\n",
    "    inner_metric=inner_metric,\n",
    "    outer_metric=outer_metric,\n",
    "    frequency=50,\n",
    "    logdir=Path(f\"logs/simulation_{datetime.now().strftime('%Y%m%d_%H%M%S')}\"),\n",
    ")\n",
    "\n",
    "launcher = Launcher(\n",
    "    simfile=simfile,\n",
    "    use_gpu=True,\n",
    "    runtimeevaluation=rte,\n",
    ")"
   ]
  },
  {
   "cell_type": "markdown",
   "metadata": {},
   "source": [
    "##### Create autocal object"
   ]
  },
  {
   "cell_type": "code",
   "execution_count": 6,
   "metadata": {},
   "outputs": [
    {
     "name": "stderr",
     "output_type": "stream",
     "text": [
      "[I 2025-03-27 19:22:13,435] A new study created in Journal with name: example_satellite_altimetry\n",
      "INFO:autocal:------------------------------------ Trial: 0 ------------------------------------\n",
      "WARNING:launcher:No GPUs detected. Falling back to CPU.\n",
      "Processing: 100%|██████████| 500/500 [00:28<00:00, 17.58step/s]\n",
      "INFO:autocal:InnerEvaluation(metric=RMSE):\n",
      "        values    n\n",
      "name               \n",
      "3a    0.141286  129\n",
      "3b    0.278449  152\n",
      "6a    0.188266  240\n",
      "j3    0.189482  248\n",
      "sa    0.278302  172\n",
      "[I 2025-03-27 19:22:44,411] Trial 0 finished with value: 0.2151571560374687 and parameters: {'Manning_0': 44.510999999999996, 'Manning_1': 58.001, 'Manning_2': 48.891, 'Manning_3': 44.190999999999995, 'Manning_4': 34.361, 'Manning_5': 52.381, 'Manning_6': 35.491}. Best is trial 0 with value: 0.2151571560374687.\n",
      "INFO:autocal:------------------------------------ Trial: 1 ------------------------------------\n",
      "WARNING:launcher:No GPUs detected. Falling back to CPU.\n",
      "Processing: 100%|██████████| 500/500 [00:27<00:00, 17.89step/s]\n",
      "INFO:autocal:InnerEvaluation(metric=RMSE):\n",
      "        values    n\n",
      "name               \n",
      "3a    0.131639  129\n",
      "3b    0.264630  152\n",
      "6a    0.176291  240\n",
      "j3    0.178865  248\n",
      "sa    0.279245  172\n",
      "[I 2025-03-27 19:23:14,670] Trial 1 finished with value: 0.20613386655914107 and parameters: {'Manning_0': 72.331, 'Manning_1': 78.161, 'Manning_2': 31.101000000000003, 'Manning_3': 64.21100000000001, 'Manning_4': 42.891, 'Manning_5': 46.071, 'Manning_6': 75.07100000000001}. Best is trial 1 with value: 0.20613386655914107.\n"
     ]
    }
   ],
   "source": [
    "calibration = AutoCal(\n",
    "    study_name=study_name,\n",
    "    launcher=launcher,\n",
    "    simobs=simobs,\n",
    "    inner_metric=inner_metric,  \n",
    "    outer_metric=outer_metric,\n",
    "    n_trials=n_trials,\n",
    "    direction=direction,\n",
    "    sampler=sampler, \n",
    "    measurement_functions=measurement_functions,\n",
    "    evaluation_time=evaluation_time,\n",
    "    verbose=False,\n",
    "    load_if_exists=False,\n",
    ")\n",
    "calibration.run()"
   ]
  }
 ],
 "metadata": {
  "kernelspec": {
   "display_name": "cloudspace",
   "language": "python",
   "name": "python3"
  },
  "language_info": {
   "codemirror_mode": {
    "name": "ipython",
    "version": 3
   },
   "file_extension": ".py",
   "mimetype": "text/x-python",
   "name": "python",
   "nbconvert_exporter": "python",
   "pygments_lexer": "ipython3",
   "version": "3.10.10"
  }
 },
 "nbformat": 4,
 "nbformat_minor": 2
}
